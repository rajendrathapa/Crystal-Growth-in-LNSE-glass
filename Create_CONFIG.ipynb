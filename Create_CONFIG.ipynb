{
 "cells": [
  {
   "cell_type": "markdown",
   "id": "28c86d46",
   "metadata": {},
   "source": [
    "__Create a CONFIG file for DL_POLY simulations__\n",
    "\n",
    "__RT_seed.vasp: POSCAR format of the seed to be planted.__\n",
    "\n",
    "__LNO_O_random.POSCAR: POSCAR format of the randomly distributed atoms with spherical voids.__\n"
   ]
  },
  {
   "cell_type": "code",
   "execution_count": 2,
   "id": "87e8cf5e",
   "metadata": {},
   "outputs": [
    {
     "name": "stdout",
     "output_type": "stream",
     "text": [
      "Size of the simulation cell is: 106.2807943102\n",
      "No.of atoms in Seed [354, 354, 1062]\n",
      "1770\n",
      "No. of atoms outside Seed [19919, 19919, 59757]\n",
      "99595\n",
      "Total no. of atoms:  101365\n",
      "DONE!!!\n"
     ]
    }
   ],
   "source": [
    "import numpy as np\n",
    "import numpy \n",
    "\n",
    "out1 = open(\"Random_Z_0_CONFIG\",'w')\n",
    "############ Function Definitions ############\n",
    "def GetLattConst(filename):\n",
    "    iI = open(filename, 'r')\n",
    "    iI.readline()\n",
    "    data = float(iI.readline())\n",
    "    if (data == 1):     #if your second line in the CONTCAR is 1.00\n",
    "        data = iI.readline().split()\n",
    "        iI.close()\n",
    "        return float(data[0])\n",
    "    else:\n",
    "        iI.close()\n",
    "        return data\n",
    "\n",
    "#Function to get atom positions\n",
    "def PrintCoords(fI, fII,BOX):\n",
    "    lineskip = 5\n",
    "    iI = open(fI, 'r')\n",
    "    iII = open(fII,'r')\n",
    "    for i in np.arange(lineskip):     #Skip the lines before atom types are defined\n",
    "        iI.readline()\n",
    "        iII.readline()\n",
    "    atomtypes = iI.readline().split()            #Store atom types in string list\n",
    "    atomtypes = iII.readline().split()\n",
    "    numatoms_I = [int(i) for i in iI.readline().split()]   #Store number of each atom type in int list\n",
    "    print(\"No.of atoms in Seed\", numatoms_I)\n",
    "    NI = sum(numatoms_I)                          #first line of the .xyz file\n",
    "    print(NI)\n",
    "    \n",
    "    numatoms_II = [int(i) for i in iII.readline().split()]   #Store number of each atom type in int list\n",
    "    print(\"No. of atoms outside Seed\", numatoms_II)\n",
    "    NII = sum(numatoms_II)\n",
    "    print(NII)\n",
    "    print(\"Total no. of atoms: \", NI+NII)\n",
    "    print (NI+NII,\"  atoms in a box of size \", box, \"A with a spherical seed.\",file=out1)\n",
    "    print (\"         2         2     \",NI+NII, file=out1)\n",
    "    print (\"%20.10f\"%(BOX), \"%20.12f\"%(0.0), \"%20.12f\"%(0.0), file=out1 )\n",
    "    print (\"%20.10f\"%(0.0), \"%20.12f\"%(BOX), \"%20.12f\"%(0.0), file=out1 )\n",
    "    print (\"%20.10f\"%(0.0), \"%20.12f\"%(0.0), \"%20.12f\"%(BOX), file=out1 )\n",
    "    iI.readline()                                #Skip line specifying 'Direct'\n",
    "    iII.readline()\n",
    "    ct = 1\n",
    "    charges=[\"1+\",\"5+\",\"2-\"]\n",
    "    for i in np.arange(0, len(atomtypes)):          #Loop over the number of atom types\n",
    "        for j in np.arange(numatoms_I[i]):    \n",
    "            data = [float(i) for i in iI.readline().split()]\n",
    "            DATA = np.array(list(data))\n",
    "            print(atomtypes[i]+charges[i],\"{0:13}\".format(ct), file=out1)\n",
    "            print (\"%16.8f\"%(DATA[0]-0.5*BOX),\"%20.8f\"%(DATA[1]-0.5*BOX),\"%20.8f\"%(DATA[2]-0.5*BOX),file=out1)\n",
    "            print (\"%16.11f\"%(0.0),\"%20.11f\"%(0.0),\"%20.11f\"%(0.0),file=out1) #print 0.0 velocites for seed atoms\n",
    "            print (\"%16.11f\"%(0.0),\"%20.11f\"%(0.0),\"%20.11f\"%(0.0),file=out1) #print 0.0 forces for seed atoms\n",
    "            ct += 1\n",
    "        \n",
    "        for j in np.arange(numatoms_II[i]):    \n",
    "            data = [float(i) for i in iII.readline().split()]\n",
    "            DATA = np.array(list(data))\n",
    "            print(atomtypes[i]+charges[i],\"{0:13}\".format(ct), file=out1)\n",
    "            print (\"%16.8f\"%(DATA[0]-0.5*BOX),\"%20.8f\"%(DATA[1]-0.5*BOX),\"%20.8f\"%(DATA[2]-0.5*BOX),file=out1)\n",
    "            print (\"%16.11f\"%(0.0),\"%20.11f\"%(0.0),\"%20.11f\"%(0.0),file=out1)\n",
    "            print (\"%16.11f\"%(0.0),\"%20.11f\"%(0.0),\"%20.11f\"%(0.0),file=out1)\n",
    "            ct += 1        \n",
    "    iI.close()  \n",
    "    return \n",
    "#################\n",
    "box = GetLattConst(\"LNO0_random.POSCAR\")\n",
    "print(\"Size of the simulation cell is:\", box)\n",
    "PrintCoords(\"RT_seed.vasp\", \"LNO0_random.POSCAR\",box)                                       #This prints the coordinates to the output files\n",
    "print (\"DONE!!!\")\n"
   ]
  },
  {
   "cell_type": "code",
   "execution_count": null,
   "id": "79488927",
   "metadata": {},
   "outputs": [],
   "source": []
  }
 ],
 "metadata": {
  "kernelspec": {
   "display_name": "Python 3 (ipykernel)",
   "language": "python",
   "name": "python3"
  },
  "language_info": {
   "codemirror_mode": {
    "name": "ipython",
    "version": 3
   },
   "file_extension": ".py",
   "mimetype": "text/x-python",
   "name": "python",
   "nbconvert_exporter": "python",
   "pygments_lexer": "ipython3",
   "version": "3.10.9"
  }
 },
 "nbformat": 4,
 "nbformat_minor": 5
}
