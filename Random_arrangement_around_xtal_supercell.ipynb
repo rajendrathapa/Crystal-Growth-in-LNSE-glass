{
 "cells": [
  {
   "cell_type": "code",
   "execution_count": 1,
   "id": "23c451ce",
   "metadata": {},
   "outputs": [],
   "source": [
    "import numpy as np"
   ]
  },
  {
   "cell_type": "code",
   "execution_count": 2,
   "id": "2bfd5bf8",
   "metadata": {},
   "outputs": [],
   "source": [
    "def periodic_distance(atom, nbd, box):\n",
    "    '''Inputs:\n",
    "        atom = coordinate of a single reference atom\n",
    "        nbd = array of coordinates of multiple atoms\n",
    "        box = length of the box\n",
    "       Outputs:\n",
    "        dis = distance between atom and nbd\n",
    "        len(dis) == len(nbd)\n",
    "    '''\n",
    "    delta = np.abs(atom-nbd)\n",
    "    delta = np.where(delta> 0.5*box, delta-box, delta)\n",
    "    dis = np.sqrt((delta**2).sum(axis=-1))\n",
    "    return dis"
   ]
  },
  {
   "cell_type": "code",
   "execution_count": 3,
   "id": "b28a283c",
   "metadata": {},
   "outputs": [],
   "source": [
    "import periodictable\n",
    "\n",
    "def get_atomic_mass(element_symbol):\n",
    "    try:\n",
    "        element = periodictable.elements.symbol(element_symbol)\n",
    "        atomic_mass = element.mass\n",
    "        return atomic_mass\n",
    "    except ValueError as e:\n",
    "        print(f\"Error: {e}\")\n",
    "        return None\n"
   ]
  },
  {
   "cell_type": "code",
   "execution_count": 7,
   "id": "23fa3db9",
   "metadata": {},
   "outputs": [
    {
     "name": "stdout",
     "output_type": "stream",
     "text": [
      "Number of atoms: Li:20000, Nb:20000, O:60000, Si:0, Er:0\n",
      "Total number of atoms:  100000\n"
     ]
    }
   ],
   "source": [
    "# Choose an x for creating (1-x)LiNbO3-xSiO2 system\n",
    "frac = 0.00\n",
    "\n",
    "# We want a total of n_mols number of molecules (sum of number of LiNbO3 and SiO2 molecules)\n",
    "# If x == 0, there will be n_mols number of LiNbO3\n",
    "n_mols = 20000\n",
    "n_Li = int(n_mols*(1-frac))\n",
    "n_Nb = n_Li\n",
    "\n",
    "n_O = int(n_mols*(frac*2+(1-frac)*3))\n",
    "n_Si = int(n_mols*frac)\n",
    "\n",
    "# Manually choose the number of Er\n",
    "n_Er = 0\n",
    "n_O += int(n_Er*3/2.0)\n",
    "\n",
    "print(\"Number of atoms: Li:{}, Nb:{}, O:{}, Si:{}, Er:{}\".format(n_Li, n_Nb, n_O, n_Si, n_Er))\n",
    "print(\"Total number of atoms: \", np.sum([n_Li, n_Nb, n_O, n_Si, n_Er]))"
   ]
  },
  {
   "cell_type": "code",
   "execution_count": 12,
   "id": "6d4ea0a8",
   "metadata": {},
   "outputs": [],
   "source": [
    "contents = {'Li':n_Li,'Nb':n_Nb,'O':n_O}#,'Si':n_Si,'Er':n_Er} #LNS5\n",
    "\n",
    "total_mass = 0.0\n",
    "for key,num in contents.items():\n",
    "    total_mass += num*get_atomic_mass(key)"
   ]
  },
  {
   "cell_type": "code",
   "execution_count": 13,
   "id": "86665eec",
   "metadata": {},
   "outputs": [
    {
     "name": "stdout",
     "output_type": "stream",
     "text": [
      "Box size: 105.34472588464038 A.\n"
     ]
    }
   ],
   "source": [
    "import numpy as np\n",
    "\n",
    "\n",
    "density = 4.20   #g/cm3\n",
    "box = np.cbrt((total_mass*1.66054)/(density))\n",
    "print(\"Box size:\", box, \"A.\")"
   ]
  },
  {
   "cell_type": "markdown",
   "id": "61724c2f",
   "metadata": {},
   "source": [
    "__Take the coordinates of the supercell of the seed to be inserted and then displace it to the center of the box__\n"
   ]
  },
  {
   "cell_type": "code",
   "execution_count": 55,
   "id": "2759a4fc",
   "metadata": {},
   "outputs": [],
   "source": [
    "seed = np.loadtxt(\"LiNbO3_4x4x1.poscar\", skiprows=8)\n",
    "\n",
    "mean_x = np.mean(seed[:,0])\n",
    "mean_y = np.mean(seed[:,1])\n",
    "mean_z = np.mean(seed[:,2])\n",
    "seed_x = [i+(box*0.5-mean_x) for i in seed[:,0]]\n",
    "seed_y = [i+(box*0.5-mean_y) for i in seed[:,1]]\n",
    "seed_z = [i+(box*0.5-mean_z) for i in seed[:,2]]\n"
   ]
  },
  {
   "cell_type": "code",
   "execution_count": 57,
   "id": "769c227b",
   "metadata": {},
   "outputs": [],
   "source": [
    "num_atoms = list(contents.values())"
   ]
  },
  {
   "cell_type": "code",
   "execution_count": 58,
   "id": "d953e1d2",
   "metadata": {},
   "outputs": [
    {
     "name": "stdout",
     "output_type": "stream",
     "text": [
      "[20000, 40000, 100000]\n"
     ]
    }
   ],
   "source": [
    "natoms_summed = [sum(num_atoms[:i+1]) for i in range(len(num_atoms))]\n",
    "\n",
    "print(natoms_summed)\n"
   ]
  },
  {
   "cell_type": "code",
   "execution_count": 46,
   "id": "54d3a0a2",
   "metadata": {},
   "outputs": [
    {
     "name": "stdout",
     "output_type": "stream",
     "text": [
      "Now creating the random coordinates.................\n",
      "Now placing Li!!!\n"
     ]
    },
    {
     "name": "stderr",
     "output_type": "stream",
     "text": [
      "Processing: 100%|████████████████████████████████████████████| 20000/20000 [01:06<00:00, 302.49it/s]\n"
     ]
    }
   ],
   "source": [
    "from tqdm import tqdm\n",
    "import random as ran\n",
    "import numpy as np\n",
    "\n",
    "\n",
    "\n",
    "cut_off = 1.5                 #minimum approach distance\n",
    "center=[box*0.5, box*0.5, box*0.5]\n",
    "# Initialize the lists with the coordinates of the seeds loaded above\n",
    "rx,ry,rz = seed_x[:], seed_y[:], seed_z[:]\n",
    "print (\"Now creating the random coordinates.................\")\n",
    "\n",
    "\n",
    "print (\"Now placing Li!!!\")\n",
    "for count in tqdm(range(natoms_summed[0]), desc=\"Processing\", ncols=100):\n",
    "    x,y,z = box*ran.random(),box*ran.random(),box*ran.random()\n",
    "    checker = \"Failed\"\n",
    "    while checker != \"Passed\":\n",
    "        dist = periodic_distance([x,y,z], np.array([rx,ry,rz]).T, box)\n",
    "        if all(value > cut_off+0.5 for value in dist):\n",
    "            checker = \"Passed\"\n",
    "        else:\n",
    "            x,y,z = box*ran.random(),box*ran.random(),box*ran.random()\n",
    "    rx.append(x)\n",
    "    ry.append(y)\n",
    "    rz.append(z)\n"
   ]
  },
  {
   "cell_type": "code",
   "execution_count": 47,
   "id": "537d3c29",
   "metadata": {},
   "outputs": [
    {
     "data": {
      "text/plain": [
       "20480"
      ]
     },
     "execution_count": 47,
     "metadata": {},
     "output_type": "execute_result"
    }
   ],
   "source": [
    "len(rx)"
   ]
  },
  {
   "cell_type": "code",
   "execution_count": 48,
   "id": "50fec782",
   "metadata": {},
   "outputs": [
    {
     "name": "stdout",
     "output_type": "stream",
     "text": [
      "Now placing Nb\n"
     ]
    },
    {
     "name": "stderr",
     "output_type": "stream",
     "text": [
      "Processing: 100%|█████████████████████████████████████████████| 20000/20000 [07:05<00:00, 47.05it/s]\n"
     ]
    }
   ],
   "source": [
    "print (\"Now placing Nb\")\n",
    "for count in tqdm(np.arange(natoms_summed[0],natoms_summed[1]), desc=\"Processing\", ncols=100):\n",
    "    x,y,z = box*ran.random(),box*ran.random(),box*ran.random()\n",
    "    checker = \"Failed\"\n",
    "    while checker != \"Passed\":\n",
    "        dist = periodic_distance([x,y,z], np.array([rx,ry,rz]).T, box)\n",
    "        if all(value > cut_off+0.5 for value in dist):\n",
    "            checker = \"Passed\"\n",
    "        else:\n",
    "            x,y,z = box*ran.random(),box*ran.random(),box*ran.random()\n",
    "    rx.append(x)\n",
    "    ry.append(y)\n",
    "    rz.append(z)"
   ]
  },
  {
   "cell_type": "code",
   "execution_count": 49,
   "id": "5c19d274",
   "metadata": {},
   "outputs": [
    {
     "name": "stdout",
     "output_type": "stream",
     "text": [
      "Now placing O\n"
     ]
    },
    {
     "name": "stderr",
     "output_type": "stream",
     "text": [
      "Processing: 100%|███████████████████████████████████████████| 60000/60000 [6:45:49<00:00,  2.46it/s]\n"
     ]
    }
   ],
   "source": [
    "print (\"Now placing O\")\n",
    "for count in tqdm(np.arange(natoms_summed[1],natoms_summed[2]), desc=\"Processing\", ncols=100):\n",
    "    x,y,z = box*ran.random(),box*ran.random(),box*ran.random()\n",
    "    checker = \"Failed\"\n",
    "    while checker != \"Passed\":\n",
    "        dist = periodic_distance([x,y,z], np.array([rx,ry,rz]).T, box)\n",
    "        if all(value > cut_off+0.3 for value in dist):\n",
    "            checker = \"Passed\"\n",
    "        else:\n",
    "            x,y,z = box*ran.random(),box*ran.random(),box*ran.random()\n",
    "    rx.append(x)\n",
    "    ry.append(y)\n",
    "    rz.append(z)"
   ]
  },
  {
   "cell_type": "code",
   "execution_count": 53,
   "id": "dcfc61a4",
   "metadata": {},
   "outputs": [],
   "source": [
    "out1 = open(\"RT_seed.POSCAR\", 'w')\n",
    "print (\"comment line\",file=out1)\n",
    "print (\"%16.10f\"%(1.0),file=out1)\n",
    "print (\"%23.16f\"%(box),\"%22.16f\"%(0.0),\"%22.16f\"%(0.0),file=out1)\n",
    "print (\"%23.16f\"%(0.0),\"%22.16f\"%(box),\"%22.16f\"%(0.0),file=out1)\n",
    "print (\"%23.16f\"%(0.0),\"%22.16f\"%(0.0),\"%22.16f\"%(box),file=out1)\n",
    "print (\"   Li\",\"   Nb\",\"    O\",file=out1)\n",
    "\n",
    "n_Li_seed = int(len(seed)*0.2)\n",
    "n_Nb_seed = n_Li_seed\n",
    "n_O_seed = int(3*n_Li_seed)\n",
    "\n",
    "print (\"   \",n_Li_seed,\"   \",n_Nb_seed,\"    \",n_O_seed,file=out1)\n",
    "print (\"Cartesian\",file=out1)\n",
    "\n",
    "    \n",
    "for ct in range(len(seed)):\n",
    "    print (\"%20.16f\"%(rx[ct]),\"%20.16f\"%(ry[ct]),\"%20.16f\"%(rz[ct]),file=out1)\n",
    "    \n",
    "out1.close()"
   ]
  },
  {
   "cell_type": "code",
   "execution_count": 54,
   "id": "7f321ff0",
   "metadata": {},
   "outputs": [],
   "source": [
    "out2 = open(\"LiNbO3_random_100k.POSCAR\", 'w')\n",
    "print (\"comment line\",file=out2)\n",
    "print (\"%16.10f\"%(1.0),file=out2)\n",
    "print (\"%23.16f\"%(box),\"%22.16f\"%(0.0),\"%22.16f\"%(0.0),file=out2)\n",
    "print (\"%23.16f\"%(0.0),\"%22.16f\"%(box),\"%22.16f\"%(0.0),file=out2)\n",
    "print (\"%23.16f\"%(0.0),\"%22.16f\"%(0.0),\"%22.16f\"%(box),file=out2)\n",
    "print (\"   Li\",\"   Nb\",\"    O\",file=out2)\n",
    "print (\"   \",n_Li,\"   \",n_Nb,\"    \",n_O,file=out2)\n",
    "print (\"Cartesian\",file=out2)\n",
    "\n",
    "    \n",
    "for ct in range(len(seed),len(rx)):\n",
    "    print (\"%20.16f\"%(rx[ct]),\"%20.16f\"%(ry[ct]),\"%20.16f\"%(rz[ct]),file=out2)\n",
    "    \n",
    "out2.close()"
   ]
  },
  {
   "cell_type": "code",
   "execution_count": null,
   "id": "ebb8216d",
   "metadata": {},
   "outputs": [],
   "source": []
  }
 ],
 "metadata": {
  "kernelspec": {
   "display_name": "Python 3 (ipykernel)",
   "language": "python",
   "name": "python3"
  },
  "language_info": {
   "codemirror_mode": {
    "name": "ipython",
    "version": 3
   },
   "file_extension": ".py",
   "mimetype": "text/x-python",
   "name": "python",
   "nbconvert_exporter": "python",
   "pygments_lexer": "ipython3",
   "version": "3.10.9"
  }
 },
 "nbformat": 4,
 "nbformat_minor": 5
}
