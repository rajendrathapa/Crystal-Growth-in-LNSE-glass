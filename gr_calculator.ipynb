{
 "cells": [
  {
   "cell_type": "markdown",
   "id": "7c50c625-6538-4294-8d0c-2739dea50c77",
   "metadata": {},
   "source": [
    "__Radial Distribution Function__\n",
    "\n",
    "    - calculate the RDF from the coordinates of a molecular dynamics simulation.\n",
    "    - written for DL-POLY output file but can easily be used (with some modifications) for any other simulation software\n",
    "    - code has been written in a parallel implementation and can be run in Pittsburgh Supercomputer \n",
    "    - reach out if you need help with anything in the code.\n",
    "    \n",
    "### Author: Rajendra Thapa\n"
   ]
  },
  {
   "cell_type": "code",
   "execution_count": 1,
   "id": "155cb999-bd9a-447c-ac84-8103c0dffdac",
   "metadata": {},
   "outputs": [],
   "source": [
    "import sys"
   ]
  },
  {
   "cell_type": "code",
   "execution_count": 2,
   "id": "590265f1-b920-468c-b29e-95604c93813e",
   "metadata": {},
   "outputs": [],
   "source": [
    "import numpy as np\n",
    "import matplotlib.pyplot as plt\n",
    "import matplotlib.gridspec as gridspec\n",
    "import matplotlib as mpl\n",
    "from tqdm import tqdm"
   ]
  },
  {
   "cell_type": "code",
   "execution_count": 7,
   "id": "f823b751-fba5-4911-894c-66b823a8c49e",
   "metadata": {},
   "outputs": [],
   "source": [
    "import numpy as np\n",
    "from multiprocessing import Pool\n",
    "\n",
    "def distance(atom, nbd, box):\n",
    "    delta = np.abs(atom-nbd)\n",
    "    delta = np.where(delta> 0.5*box, delta-box, delta)\n",
    "    dis = np.sqrt((delta**2).sum(axis=-1))\n",
    "    return dis\n",
    "\n",
    "def calculate_rdf_chunk(args):\n",
    "    chunk, positions, box_size, dr, max_distance = args\n",
    "    n_atoms = len(positions)\n",
    "    n_bins = int(max_distance / dr)\n",
    "    rdf_chunk = np.zeros(n_bins)\n",
    "    \n",
    "    for i in chunk:\n",
    "        nbd = positions[i:n_atoms][:]\n",
    "        dist = distance(positions[i][:], positions[i:][:],box_size)\n",
    "        for ind1 in range(len(dist)):\n",
    "            if dist[ind1] < max_distance and dist[ind1] != 0.0:\n",
    "                ct = int(dist[ind1]/dr)\n",
    "                rdf_chunk[ct-1] += 2    \n",
    "    return rdf_chunk\n",
    "\n",
    "def rdf_parallel(positions, box_size, dr, max_distance, num_processes=128):\n",
    "    n_atoms = len(positions)\n",
    "    chunk_size = int(np.ceil(n_atoms / num_processes))\n",
    "    chunks = [range(i, min(i + chunk_size, n_atoms)) for i in range(0, n_atoms, chunk_size)]\n",
    "    \n",
    "    with Pool(num_processes) as pool:\n",
    "        args = [(chunk, positions, box_size, dr, max_distance) for chunk in chunks]\n",
    "        results = list(pool.imap_unordered(calculate_rdf_chunk, args))\n",
    "    \n",
    "    rdf_values = np.sum(results, axis=0)\n",
    "    \n",
    "    rho = n_atoms / (box_size**3)\n",
    "    shell_volume = 4 * np.pi * (np.arange(len(rdf_values)) * dr)**2 * dr\n",
    "    normalization = rho * n_atoms * shell_volume\n",
    "    rdf_values /= normalization\n",
    "    \n",
    "    return rdf_values"
   ]
  },
  {
   "cell_type": "code",
   "execution_count": 8,
   "id": "e2991da1-0cfd-4ed5-93f9-13b9400e8c9f",
   "metadata": {},
   "outputs": [],
   "source": [
    "def get_coords(lines):\n",
    "    seed_rad = 15.0\n",
    "    coords = []\n",
    "    for i in range(len(lines)):\n",
    "        line = lines[i].strip()\n",
    "        if line.startswith((\"Li1+\", \"Nb5+\", \"O2-\")):\n",
    "            if i + 1 < len(lines):\n",
    "                tmp = [float(item) for item in lines[i+1].split()]\n",
    "                if tmp[0]**2+tmp[1]**2+tmp[2]**2 > (seed_rad - 1.0)**2:\n",
    "                    coords.append(lines[i + 1].split())\n",
    "    return np.array([[float(num) for num in row] for row in coords])"
   ]
  },
  {
   "cell_type": "code",
   "execution_count": null,
   "id": "cfe0de8c-a9d9-43af-afd1-0bc40a4a72f8",
   "metadata": {},
   "outputs": [
    {
     "name": "stdout",
     "output_type": "stream",
     "text": [
      "Working on  /ocean/projects/mat230020p/rt887917/LiNbO3_DL_POLY/W0_1p80ns/MQ/C0/data/15A_W0-1-nve.rcn\n"
     ]
    }
   ],
   "source": [
    "_dir = \"/ocean/projects/mat230020p/rt887917/LiNbO3_DL_POLY/W0_1p80ns/MQ/C0/data\"\n",
    "for MQ_steps in [1,3,6]:\n",
    "    for run_type in [\"nve\"]:#,\"nve\"]:   # NVT was followed by NVE in the MQ cycle\n",
    "        f_name = f\"{_dir}/15A_W0-{MQ_steps}-{run_type}.rcn\"\n",
    "        print(\"Working on \",f_name)\n",
    "        with open(f_name) as file:\n",
    "            lines = file.readlines()\n",
    "        Lx, Ly, Lz = float(lines[2].split()[0]), float(lines[3].split()[1]), float(lines[4].split()[2])\n",
    "        xyz_coords = get_coords(lines)\n",
    "        dr = 0.05\n",
    "        rdf_values = rdf_parallel(xyz_coords, Lx, dr, 0.5*Lx)\n",
    "        plt.plot(rdf_values, label=f\"{MQ_steps}-{run_type}\")\n",
    "\n",
    "plt.legend(loc='best')\n",
    "plt.xlim(20,80)\n",
    "plt.show()\n",
    "        "
   ]
  },
  {
   "cell_type": "code",
   "execution_count": null,
   "id": "24ee492b-66ed-4585-a784-f36c918d7f57",
   "metadata": {},
   "outputs": [],
   "source": []
  }
 ],
 "metadata": {
  "kernelspec": {
   "display_name": "Python 3 (ipykernel)",
   "language": "python",
   "name": "python3"
  },
  "language_info": {
   "codemirror_mode": {
    "name": "ipython",
    "version": 3
   },
   "file_extension": ".py",
   "mimetype": "text/x-python",
   "name": "python",
   "nbconvert_exporter": "python",
   "pygments_lexer": "ipython3",
   "version": "3.9.13"
  }
 },
 "nbformat": 4,
 "nbformat_minor": 5
}
