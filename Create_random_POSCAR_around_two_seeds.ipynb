{
 "cells": [
  {
   "cell_type": "markdown",
   "id": "46e9d506",
   "metadata": {},
   "source": [
    "__Code to create a random distribution of atoms around two hollow spheres__\n",
    "\n",
    "    - The hollow spheres will be the sites for crystal seeds\n",
    "    - RUNTIME for this code will depend on cut-off values used\n",
    "        - higher cut-off, lower RUNTIME and vice-versa"
   ]
  },
  {
   "cell_type": "code",
   "execution_count": 1,
   "id": "23c451ce",
   "metadata": {},
   "outputs": [],
   "source": [
    "import numpy as np"
   ]
  },
  {
   "cell_type": "code",
   "execution_count": 2,
   "id": "2bfd5bf8",
   "metadata": {},
   "outputs": [],
   "source": [
    "def periodic_distance(atom, nbd, box):\n",
    "    '''Inputs:\n",
    "        atom = coordinate of a single reference atom\n",
    "        nbd = array of coordinates of multiple atoms\n",
    "        box = length of the box\n",
    "       Outputs:\n",
    "        dis = distance between atom and nbd\n",
    "        len(dis) == len(nbd)\n",
    "    '''\n",
    "    delta = np.abs(atom-nbd)\n",
    "    delta = np.where(delta> 0.5*box, delta-box, delta)\n",
    "    dis = np.sqrt((delta**2).sum(axis=-1))\n",
    "    return dis"
   ]
  },
  {
   "cell_type": "code",
   "execution_count": 3,
   "id": "b28a283c",
   "metadata": {},
   "outputs": [],
   "source": [
    "import periodictable\n",
    "\n",
    "def get_atomic_mass(element_symbol):\n",
    "    try:\n",
    "        element = periodictable.elements.symbol(element_symbol)\n",
    "        atomic_mass = element.mass\n",
    "        return atomic_mass\n",
    "    except ValueError as e:\n",
    "        print(f\"Error: {e}\")\n",
    "        return None\n"
   ]
  },
  {
   "cell_type": "code",
   "execution_count": 4,
   "id": "23fa3db9",
   "metadata": {},
   "outputs": [
    {
     "name": "stdout",
     "output_type": "stream",
     "text": [
      "Number of atoms: Li:40000, Nb:40000, O:120000, Si:0\n",
      "Total number of atoms:  200000\n"
     ]
    }
   ],
   "source": [
    "# Choose an x for creating (1-x)LiNbO3-xSiO2 system\n",
    "frac = 0.0\n",
    "\n",
    "# We want a total of n_mols number of molecules (sum of number of LiNbO3 and SiO2 molecules)\n",
    "# If x == 0, there will be n_mols number of LiNbO3\n",
    "n_mols = 40000\n",
    "n_Li = int(n_mols*(1-frac))\n",
    "n_Nb = n_Li\n",
    "\n",
    "n_O = int(n_mols*(frac*2+(1-frac)*3))\n",
    "n_Si = int(n_mols*frac)\n",
    "\n",
    "# # Manually choose the number of Er\n",
    "# n_Er = 450\n",
    "# n_O += int(n_Er*3/2.0)\n",
    "\n",
    "print(\"Number of atoms: Li:{}, Nb:{}, O:{}, Si:{}\".format(n_Li, n_Nb, n_O, n_Si))\n",
    "print(\"Total number of atoms: \", np.sum([n_Li, n_Nb, n_O, n_Si]))"
   ]
  },
  {
   "cell_type": "code",
   "execution_count": 5,
   "id": "6d4ea0a8",
   "metadata": {},
   "outputs": [],
   "source": [
    "contents = {'Li':n_Li,'Nb':n_Nb,'O':n_O}#,'Si':n_Si,'Er':n_Er} #LNS5\n",
    "\n",
    "total_mass = 0.0\n",
    "for key,num in contents.items():\n",
    "    total_mass += num*get_atomic_mass(key)"
   ]
  },
  {
   "cell_type": "code",
   "execution_count": 6,
   "id": "86665eec",
   "metadata": {},
   "outputs": [
    {
     "name": "stdout",
     "output_type": "stream",
     "text": [
      "Box size: 133.90540995100653 A.\n"
     ]
    }
   ],
   "source": [
    "import numpy as np\n",
    "\n",
    "\n",
    "density = 4.09   #g/cm3\n",
    "box = np.cbrt((total_mass*1.66054)/(density))\n",
    "print(\"Box size:\", box, \"A.\")"
   ]
  },
  {
   "cell_type": "markdown",
   "id": "9671ffce",
   "metadata": {},
   "source": [
    "__Choosing the center of the seeds__\n",
    "\n",
    "    - distance between the seeds (15 A and 10 A) in the earlier class of simulation = 50 A\n",
    "    - closest distance between surface = 25 A\n",
    "    - To maintain the same condition, two 15 A seeds centers must be 55 A away"
   ]
  },
  {
   "cell_type": "code",
   "execution_count": 7,
   "id": "8c740652",
   "metadata": {},
   "outputs": [
    {
     "name": "stdout",
     "output_type": "stream",
     "text": [
      "Seed Centers:\n",
      "[82.95270497550327, 50.952704975503266, 82.95270497550327]\n",
      "[50.952704975503266, 81.95270497550327, 50.952704975503266]\n",
      "Distance between seed centers:  54.85435260760991\n",
      "Closest approach of seed surfaces is 24.85435260760991.\n"
     ]
    }
   ],
   "source": [
    "rad_I, rad_II = 15.0, 15.0\n",
    "\n",
    "c_I = [box/2+16.0, box/2-16.0, box/2+16.0]\n",
    "c_II = [box/2-16.0, box/2+15.0, box/2-16.0]\n",
    "d_seed = np.sqrt(sum((x - y) ** 2 for x, y in zip(c_I,c_II)))\n",
    "print(\"Seed Centers:\")\n",
    "print(c_I)\n",
    "print(c_II)\n",
    "print(\"Distance between seed centers: \",np.sqrt(sum((x - y) ** 2 for x, y in zip(c_I,c_II))))\n",
    "print(\"Closest approach of seed surfaces is {}.\".format(d_seed-(rad_I+rad_II)))\n",
    "def isInSphere(_x,_y,_z):\n",
    "    '''\n",
    "    Takes a specified co-ordinate and determine if the points fall within the spherical constrains\n",
    "    Returns one that works if the answer is FALSE\n",
    "    '''\n",
    "    ## if point is inside circle reject it\n",
    "    # add 1.0 to make sure atoms are not overlapping when the seeds and the sorrounding are later placed together\n",
    "    while (_x - c_I[0])**2 + (_y - c_I[1])**2 + (_z - c_I[2])**2 < (rad_I+1.0)**2 \\\n",
    "        or (_x - c_II[0])**2 + (_y - c_II[1])**2 + (_z - c_II[2])**2 < (rad_II+1.0)**2:        \n",
    "        _x = box*ran.random()\n",
    "        _y = box*ran.random()\n",
    "        _z = box*ran.random()        \n",
    "    return _x,_y,_z "
   ]
  },
  {
   "cell_type": "code",
   "execution_count": 8,
   "id": "769c227b",
   "metadata": {},
   "outputs": [],
   "source": [
    "num_atoms = list(contents.values())"
   ]
  },
  {
   "cell_type": "code",
   "execution_count": 9,
   "id": "d953e1d2",
   "metadata": {},
   "outputs": [
    {
     "name": "stdout",
     "output_type": "stream",
     "text": [
      "[40000, 80000, 200000]\n"
     ]
    }
   ],
   "source": [
    "natoms_summed = [sum(num_atoms[:i+1]) for i in range(len(num_atoms))]\n",
    "\n",
    "print(natoms_summed)\n"
   ]
  },
  {
   "cell_type": "markdown",
   "id": "f198ad80",
   "metadata": {},
   "source": [
    "__Want to Check if the code is working with a small number of atoms?__\n",
    "\n",
    "Uncomment the next code snippet"
   ]
  },
  {
   "cell_type": "code",
   "execution_count": 10,
   "id": "2c6dd440",
   "metadata": {},
   "outputs": [],
   "source": [
    "#natoms_summed = [4000,8000,20000]"
   ]
  },
  {
   "cell_type": "code",
   "execution_count": 11,
   "id": "54d3a0a2",
   "metadata": {},
   "outputs": [
    {
     "name": "stdout",
     "output_type": "stream",
     "text": [
      "Now creating the random coordinates.................\n",
      "Now placing Li!!!\n"
     ]
    },
    {
     "name": "stderr",
     "output_type": "stream",
     "text": [
      "Processing: 100%|█████████████████████████████████████████████| 40000/40000 [07:42<00:00, 86.41it/s]\n"
     ]
    }
   ],
   "source": [
    "from tqdm import tqdm\n",
    "import random as ran\n",
    "import numpy as np\n",
    "\n",
    "\n",
    "\n",
    "cut_off = 1.5                 #minimum approach distance\n",
    "center=[box*0.5, box*0.5, box*0.5]\n",
    "rx,ry,rz = [],[],[]\n",
    "print (\"Now creating the random coordinates.................\")\n",
    "\n",
    "\n",
    "print (\"Now placing Li!!!\")\n",
    "for count in tqdm(range(natoms_summed[0]), desc=\"Processing\", ncols=100):\n",
    "    _x,_y,_z = box*ran.random(),box*ran.random(),box*ran.random()\n",
    "    x,y,z = isInSphere(_x,_y,_z)\n",
    "    checker = \"Failed\"\n",
    "    while checker != \"Passed\":\n",
    "        dist = periodic_distance([x,y,z], np.array([rx,ry,rz]).T, box)\n",
    "        if all(value > cut_off+1.0 for value in dist):         #Li atoms are no closer than 2.50 A \n",
    "            checker = \"Passed\"\n",
    "        else:\n",
    "            _x,_y,_z = box*ran.random(),box*ran.random(),box*ran.random()\n",
    "            x,y,z = isInSphere(_x,_y,_z)\n",
    "    rx.append(x)\n",
    "    ry.append(y)\n",
    "    rz.append(z)\n"
   ]
  },
  {
   "cell_type": "code",
   "execution_count": 12,
   "id": "50fec782",
   "metadata": {},
   "outputs": [
    {
     "name": "stdout",
     "output_type": "stream",
     "text": [
      "Now placing Nb\n"
     ]
    },
    {
     "name": "stderr",
     "output_type": "stream",
     "text": [
      "Processing: 100%|███████████████████████████████████████████| 40000/40000 [5:35:31<00:00,  1.99it/s]\n"
     ]
    }
   ],
   "source": [
    "print (\"Now placing Nb\")\n",
    "for count in tqdm(np.arange(natoms_summed[0],natoms_summed[1]), desc=\"Processing\", ncols=100):\n",
    "    _x,_y,_z = box*ran.random(),box*ran.random(),box*ran.random()\n",
    "    x,y,z = isInSphere(_x,_y,_z)\n",
    "    checker = \"Failed\"\n",
    "    while checker != \"Passed\":\n",
    "        dist = periodic_distance([x,y,z], np.array([rx,ry,rz]).T, box)\n",
    "        if all(value > cut_off+1.0 for value in dist):  #Li-Nb, Nb-Nb are no closer than 2.50 A\n",
    "            checker = \"Passed\"\n",
    "        else:\n",
    "            _x,_y,_z = box*ran.random(),box*ran.random(),box*ran.random()\n",
    "            x,y,z = isInSphere(_x,_y,_z)\n",
    "    rx.append(x)\n",
    "    ry.append(y)\n",
    "    rz.append(z)"
   ]
  },
  {
   "cell_type": "code",
   "execution_count": 13,
   "id": "cff378e1",
   "metadata": {},
   "outputs": [
    {
     "data": {
      "text/plain": [
       "80000"
      ]
     },
     "execution_count": 13,
     "metadata": {},
     "output_type": "execute_result"
    }
   ],
   "source": [
    "len(rx)"
   ]
  },
  {
   "cell_type": "code",
   "execution_count": 14,
   "id": "5c19d274",
   "metadata": {},
   "outputs": [
    {
     "name": "stdout",
     "output_type": "stream",
     "text": [
      "Now placing O\n"
     ]
    },
    {
     "name": "stderr",
     "output_type": "stream",
     "text": [
      "Processing: 100%|█████████████████████████████████████████| 120000/120000 [4:20:55<00:00,  7.66it/s]\n"
     ]
    }
   ],
   "source": [
    "print (\"Now placing O\")\n",
    "for count in tqdm(np.arange(natoms_summed[1],natoms_summed[2]), desc=\"Processing\", ncols=100):\n",
    "    _x,_y,_z = box*ran.random(),box*ran.random(),box*ran.random()\n",
    "    x,y,z = isInSphere(_x,_y,_z)\n",
    "    checker = \"Failed\"\n",
    "    while checker != \"Passed\":\n",
    "        dist = periodic_distance([x,y,z], np.array([rx,ry,rz]).T, box)\n",
    "        if all(value > cut_off for value in dist):\n",
    "            checker = \"Passed\"\n",
    "        else:\n",
    "            _x,_y,_z = box*ran.random(),box*ran.random(),box*ran.random()\n",
    "            x,y,z = isInSphere(_x,_y,_z)\n",
    "    rx.append(x)\n",
    "    ry.append(y)\n",
    "    rz.append(z)"
   ]
  },
  {
   "cell_type": "markdown",
   "id": "d4c0397f",
   "metadata": {},
   "source": [
    "print (\"Now placing Si\")\n",
    "for count in tqdm(np.arange(natoms_summed[2],natoms_summed[3]), desc=\"Processing\", ncols=100):\n",
    "    _x,_y,_z = box*ran.random(),box*ran.random(),box*ran.random()\n",
    "    x,y,z = isInSphere(_x,_y,_z)\n",
    "    checker = \"Failed\"\n",
    "    while checker != \"Passed\":\n",
    "        dist = periodic_distance([x,y,z], np.array([rx,ry,rz]).T, box)\n",
    "        if all(value > cut_off+0.3 for value in dist):\n",
    "            checker = \"Passed\"\n",
    "        else:\n",
    "            _x,_y,_z = box*ran.random(),box*ran.random(),box*ran.random()\n",
    "            x,y,z = isInSphere(_x,_y,_z)\n",
    "    rx.append(x)\n",
    "    ry.append(y)\n",
    "    rz.append(z)"
   ]
  },
  {
   "cell_type": "markdown",
   "id": "a2cc56c4",
   "metadata": {},
   "source": [
    "print (\"Now placing Er\")\n",
    "for count in tqdm(np.arange(natoms_summed[3],natoms_summed[4]), desc=\"Processing\", ncols=100):\n",
    "    _x,_y,_z = box*ran.random(),box*ran.random(),box*ran.random()\n",
    "    x,y,z = isInSphere(_x,_y,_z)\n",
    "    checker = \"Failed\"\n",
    "    while checker != \"Passed\":\n",
    "        dist = periodic_distance([x,y,z], np.array([rx,ry,rz]).T, box)\n",
    "        if all(value > cut_off+0.3 for value in dist):\n",
    "            checker = \"Passed\"\n",
    "        else:\n",
    "            _x,_y,_z = box*ran.random(),box*ran.random(),box*ran.random()\n",
    "            x,y,z = isInSphere(_x,_y,_z)\n",
    "    rx.append(x)\n",
    "    ry.append(y)\n",
    "    rz.append(z)"
   ]
  },
  {
   "cell_type": "code",
   "execution_count": 15,
   "id": "dcfc61a4",
   "metadata": {},
   "outputs": [],
   "source": [
    "out2 = open(\"LNO\"+str(int(frac*100))+\"_random.POSCAR\", 'w')\n",
    "print (\"comment line\",file=out2)\n",
    "print (\"%16.10f\"%(1.0),file=out2)\n",
    "print (\"%23.16f\"%(box),\"%22.16f\"%(0.0),\"%22.16f\"%(0.0),file=out2)\n",
    "print (\"%23.16f\"%(0.0),\"%22.16f\"%(box),\"%22.16f\"%(0.0),file=out2)\n",
    "print (\"%23.16f\"%(0.0),\"%22.16f\"%(0.0),\"%22.16f\"%(box),file=out2)\n",
    "print (\"   Li\",\"   Nb\",\"    O\",file=out2)\n",
    "print (\"   \",n_Li,\"   \",n_Nb,\"    \",n_O,file=out2)\n",
    "print (\"Cartesian\",file=out2)\n",
    "\n",
    "    \n",
    "for ct in range(len(rx)):\n",
    "    print (\"%20.16f\"%(rx[ct]),\"%20.16f\"%(ry[ct]),\"%20.16f\"%(rz[ct]),file=out2)\n",
    "    \n",
    "out2.close()"
   ]
  },
  {
   "cell_type": "markdown",
   "id": "7bcf6701",
   "metadata": {},
   "source": [
    "out3 = open(\"LNS\"+str(int(frac*100))+\"_random.POSCAR\", 'w')\n",
    "print (\"comment line\",file=out3)\n",
    "print (\"%16.10f\"%(1.0),file=out3)\n",
    "print (\"%23.16f\"%(box),\"%22.16f\"%(0.0),\"%22.16f\"%(0.0),file=out3)\n",
    "print (\"%23.16f\"%(0.0),\"%22.16f\"%(box),\"%22.16f\"%(0.0),file=out3)\n",
    "print (\"%23.16f\"%(0.0),\"%22.16f\"%(0.0),\"%22.16f\"%(box),file=out3)\n",
    "print (\"   Li\",\"   Nb\",\"    O\",\"    Si\",file=out3)\n",
    "print (\"   \",n_Li,\"   \",n_Nb,\"    \",n_O-int(n_Er*3/2.0),\"    \",n_Si,file=out3)\n",
    "print (\"Cartesian\",file=out3)\n",
    "\n",
    "rx = rx[:5*n_Li]+rx[5*n_Li+int(n_Er*3/2.0):]\n",
    "ry = ry[:5*n_Li]+ry[5*n_Li+int(n_Er*3/2.0):]\n",
    "rz = rz[:5*n_Li]+rz[5*n_Li+int(n_Er*3/2.0):]\n",
    "print(len(rx), len(ry), len(rz))\n",
    "for ct in range(len(rx)-n_Er):\n",
    "    print (\"%20.16f\"%(rx[ct]),\"%20.16f\"%(ry[ct]),\"%20.16f\"%(rz[ct]),file=out3)\n",
    "out3.close()"
   ]
  }
 ],
 "metadata": {
  "kernelspec": {
   "display_name": "Python 3 (ipykernel)",
   "language": "python",
   "name": "python3"
  },
  "language_info": {
   "codemirror_mode": {
    "name": "ipython",
    "version": 3
   },
   "file_extension": ".py",
   "mimetype": "text/x-python",
   "name": "python",
   "nbconvert_exporter": "python",
   "pygments_lexer": "ipython3",
   "version": "3.10.9"
  }
 },
 "nbformat": 4,
 "nbformat_minor": 5
}
